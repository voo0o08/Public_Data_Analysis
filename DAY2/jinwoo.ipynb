{
 "cells": [
  {
   "cell_type": "code",
   "execution_count": 44,
   "id": "68d9cca1-91ee-4251-bf23-c78aeb40146d",
   "metadata": {},
   "outputs": [],
   "source": [
    "import csv\n",
    "import matplotlib.pyplot as plt\n",
    "import platform\n",
    "import koreanize_matplotlib\n",
    "import pandas as pd\n",
    "WORK = 1"
   ]
  },
  {
   "cell_type": "code",
   "execution_count": 45,
   "id": "2264bf1d-1df9-41f8-8e9b-9466f1813641",
   "metadata": {},
   "outputs": [],
   "source": [
    "# 1\n",
    "def main():\n",
    "    data = data_prepare('subwaytime.csv') # data_filtered\n",
    "    lane_list = ['1호선', '2호선', '3호선', '4호선', '5호선', '6호선', '7호선']\n",
    "\n",
    "    get_off_calc(lane_list, data)"
   ]
  },
  {
   "cell_type": "code",
   "execution_count": 46,
   "id": "f2ccbcff-e98f-4eee-9b33-3ceafd20a379",
   "metadata": {},
   "outputs": [],
   "source": [
    "# 2\n",
    "def data_prepare(file):  # 데이터 준비 함수; 두 과제가 공유\n",
    "    data = pd.read_csv(file, encoding='utf-8-sig', header=[0,1])  #\n",
    "    data_filtered = data.iloc[:, [1, 3, 11, 13]].copy()  # 데이터 일부만 저장\n",
    "    data_filtered['sum'] = data_filtered.iloc[:, 2] + data_filtered.iloc[:, 3]\n",
    "    # print(data_filtered.head(20))\n",
    "    return data_filtered\n"
   ]
  },
  {
   "cell_type": "code",
   "execution_count": 47,
   "id": "8be77a37-b902-403c-97a8-2b0861f07216",
   "metadata": {},
   "outputs": [],
   "source": [
    "# 3\n",
    "def get_off_calc(lane_list, data): # 최고 인원 지하철 구하기\n",
    "    max_list_station = []\n",
    "    max_list_value = []\n",
    "\n",
    "    for ln in lane_list:\n",
    "        max_num = 0\n",
    "        max_station = ''\n",
    "        data_ln = data.copy()[data.iloc[:, 0] == ln]\n",
    "        for row in data_ln:\n",
    "            if row[4] > max_num:\n",
    "                max_num = row[4]\n",
    "                max_station = row[1]\n",
    "        print(max_num, max_station)\n",
    "\n",
    "    lane = []\n",
    "    # for ln in lane:\n",
    "        # print(f'출근 시간대 {}호선 최대 하차역: {}, 하차인원: {:,}명')\n",
    "    pass"
   ]
  },
  {
   "cell_type": "code",
   "execution_count": 50,
   "id": "19303c5b-5f77-4626-9ade-bc088d7521b7",
   "metadata": {},
   "outputs": [
    {
     "name": "stdout",
     "output_type": "stream",
     "text": [
      "                   호선명               지하철역 Unnamed: 11_level_0  \\\n",
      "    Unnamed: 1_level_1 Unnamed: 3_level_1                  하차   \n",
      "0                  1호선                서울역              105313   \n",
      "1                  1호선                 시청               63969   \n",
      "2                  1호선                 종각               98556   \n",
      "3                  1호선               종로3가               23309   \n",
      "4                  1호선               종로5가               38726   \n",
      "..                 ...                ...                 ...   \n",
      "616                신림선                 당곡                3345   \n",
      "617                신림선                 신림                1313   \n",
      "618                신림선                 서원                1166   \n",
      "619                신림선            서울대벤처타운                5236   \n",
      "620                신림선           관악산(서울대)                3502   \n",
      "\n",
      "    Unnamed: 13_level_0     sum  \n",
      "                     하차          \n",
      "0                218007  323320  \n",
      "1                182565  246534  \n",
      "2                244858  343414  \n",
      "3                 61562   84871  \n",
      "4                 90539  129265  \n",
      "..                  ...     ...  \n",
      "616                8281   11626  \n",
      "617                2640    3953  \n",
      "618                2085    3251  \n",
      "619                8763   13999  \n",
      "620                9833   13335  \n",
      "\n",
      "[621 rows x 5 columns]\n"
     ]
    },
    {
     "ename": "IndexError",
     "evalue": "tuple index out of range",
     "output_type": "error",
     "traceback": [
      "\u001b[1;31m---------------------------------------------------------------------------\u001b[0m",
      "\u001b[1;31mIndexError\u001b[0m                                Traceback (most recent call last)",
      "Cell \u001b[1;32mIn[50], line 1\u001b[0m\n\u001b[1;32m----> 1\u001b[0m \u001b[43mmain\u001b[49m\u001b[43m(\u001b[49m\u001b[43m)\u001b[49m\n",
      "Cell \u001b[1;32mIn[45], line 5\u001b[0m, in \u001b[0;36mmain\u001b[1;34m()\u001b[0m\n\u001b[0;32m      2\u001b[0m data \u001b[38;5;241m=\u001b[39m data_prepare(\u001b[38;5;124m'\u001b[39m\u001b[38;5;124msubwaytime.csv\u001b[39m\u001b[38;5;124m'\u001b[39m)\n\u001b[0;32m      3\u001b[0m lane_list \u001b[38;5;241m=\u001b[39m [\u001b[38;5;124m'\u001b[39m\u001b[38;5;124m1호선\u001b[39m\u001b[38;5;124m'\u001b[39m, \u001b[38;5;124m'\u001b[39m\u001b[38;5;124m2호선\u001b[39m\u001b[38;5;124m'\u001b[39m, \u001b[38;5;124m'\u001b[39m\u001b[38;5;124m3호선\u001b[39m\u001b[38;5;124m'\u001b[39m, \u001b[38;5;124m'\u001b[39m\u001b[38;5;124m4호선\u001b[39m\u001b[38;5;124m'\u001b[39m, \u001b[38;5;124m'\u001b[39m\u001b[38;5;124m5호선\u001b[39m\u001b[38;5;124m'\u001b[39m, \u001b[38;5;124m'\u001b[39m\u001b[38;5;124m6호선\u001b[39m\u001b[38;5;124m'\u001b[39m, \u001b[38;5;124m'\u001b[39m\u001b[38;5;124m7호선\u001b[39m\u001b[38;5;124m'\u001b[39m]\n\u001b[1;32m----> 5\u001b[0m \u001b[43mget_off_calc\u001b[49m\u001b[43m(\u001b[49m\u001b[43mlane_list\u001b[49m\u001b[43m,\u001b[49m\u001b[43m \u001b[49m\u001b[43mdata\u001b[49m\u001b[43m)\u001b[49m\n",
      "Cell \u001b[1;32mIn[47], line 10\u001b[0m, in \u001b[0;36mget_off_calc\u001b[1;34m(lane_list, data)\u001b[0m\n\u001b[0;32m      8\u001b[0m data_ln \u001b[38;5;241m=\u001b[39m data\u001b[38;5;241m.\u001b[39mcopy()[data\u001b[38;5;241m.\u001b[39miloc[:, \u001b[38;5;241m0\u001b[39m] \u001b[38;5;241m==\u001b[39m ln]\n\u001b[0;32m      9\u001b[0m \u001b[38;5;28;01mfor\u001b[39;00m row \u001b[38;5;129;01min\u001b[39;00m data_ln:\n\u001b[1;32m---> 10\u001b[0m     \u001b[38;5;28;01mif\u001b[39;00m \u001b[43mrow\u001b[49m\u001b[43m[\u001b[49m\u001b[38;5;241;43m4\u001b[39;49m\u001b[43m]\u001b[49m \u001b[38;5;241m>\u001b[39m max_num:\n\u001b[0;32m     11\u001b[0m         max_num \u001b[38;5;241m=\u001b[39m row[\u001b[38;5;241m4\u001b[39m]\n\u001b[0;32m     12\u001b[0m         max_station \u001b[38;5;241m=\u001b[39m row[\u001b[38;5;241m1\u001b[39m]\n",
      "\u001b[1;31mIndexError\u001b[0m: tuple index out of range"
     ]
    }
   ],
   "source": [
    "main()"
   ]
  },
  {
   "cell_type": "code",
   "execution_count": null,
   "id": "4c8cd21e-5f26-441c-87ff-0319b22ddaec",
   "metadata": {},
   "outputs": [],
   "source": []
  },
  {
   "cell_type": "code",
   "execution_count": null,
   "id": "52928c72-bf48-453f-8158-1729fbac5fa7",
   "metadata": {},
   "outputs": [],
   "source": []
  },
  {
   "cell_type": "code",
   "execution_count": null,
   "id": "ffaffa61-829d-47d0-bec3-b9c6892040ca",
   "metadata": {},
   "outputs": [],
   "source": []
  },
  {
   "cell_type": "code",
   "execution_count": null,
   "id": "ba56225c-041b-4b0f-ab49-49fbbb3962d8",
   "metadata": {},
   "outputs": [],
   "source": []
  }
 ],
 "metadata": {
  "kernelspec": {
   "display_name": "Python 3 (ipykernel)",
   "language": "python",
   "name": "python3"
  },
  "language_info": {
   "codemirror_mode": {
    "name": "ipython",
    "version": 3
   },
   "file_extension": ".py",
   "mimetype": "text/x-python",
   "name": "python",
   "nbconvert_exporter": "python",
   "pygments_lexer": "ipython3",
   "version": "3.8.18"
  }
 },
 "nbformat": 4,
 "nbformat_minor": 5
}
