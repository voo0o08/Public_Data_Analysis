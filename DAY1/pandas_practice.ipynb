{
 "cells": [
  {
   "cell_type": "markdown",
   "id": "cf95447d-70e9-4cb6-b6fc-a535ad8da5c2",
   "metadata": {},
   "source": [
    "판다스 매일매일이 새로워...\n",
    "# chained index warn"
   ]
  },
  {
   "cell_type": "code",
   "execution_count": null,
   "id": "29e1f0d1-8fab-44eb-8084-ca7c69581f9a",
   "metadata": {},
   "outputs": [],
   "source": []
  },
  {
   "cell_type": "code",
   "execution_count": 1,
   "id": "08f3a54a-d9ab-4fc4-be11-b1b9ef417dd7",
   "metadata": {},
   "outputs": [],
   "source": [
    "import pandas as pd\n",
    "import matplotlib.pyplot as plt\n",
    "import numpy as np\n",
    "import koreanize_matplotlib"
   ]
  },
  {
   "cell_type": "code",
   "execution_count": 2,
   "id": "6798a830-c947-4357-8774-d2cf4f164eb2",
   "metadata": {},
   "outputs": [
    {
     "data": {
      "text/html": [
       "<div>\n",
       "<style scoped>\n",
       "    .dataframe tbody tr th:only-of-type {\n",
       "        vertical-align: middle;\n",
       "    }\n",
       "\n",
       "    .dataframe tbody tr th {\n",
       "        vertical-align: top;\n",
       "    }\n",
       "\n",
       "    .dataframe thead th {\n",
       "        text-align: right;\n",
       "    }\n",
       "</style>\n",
       "<table border=\"1\" class=\"dataframe\">\n",
       "  <thead>\n",
       "    <tr style=\"text-align: right;\">\n",
       "      <th></th>\n",
       "      <th>a</th>\n",
       "      <th>c</th>\n",
       "    </tr>\n",
       "  </thead>\n",
       "  <tbody>\n",
       "    <tr>\n",
       "      <th>0</th>\n",
       "      <td>one</td>\n",
       "      <td>0</td>\n",
       "    </tr>\n",
       "    <tr>\n",
       "      <th>1</th>\n",
       "      <td>one</td>\n",
       "      <td>1</td>\n",
       "    </tr>\n",
       "    <tr>\n",
       "      <th>2</th>\n",
       "      <td>two</td>\n",
       "      <td>2</td>\n",
       "    </tr>\n",
       "    <tr>\n",
       "      <th>3</th>\n",
       "      <td>three</td>\n",
       "      <td>3</td>\n",
       "    </tr>\n",
       "    <tr>\n",
       "      <th>4</th>\n",
       "      <td>two</td>\n",
       "      <td>4</td>\n",
       "    </tr>\n",
       "    <tr>\n",
       "      <th>5</th>\n",
       "      <td>one</td>\n",
       "      <td>5</td>\n",
       "    </tr>\n",
       "    <tr>\n",
       "      <th>6</th>\n",
       "      <td>six</td>\n",
       "      <td>6</td>\n",
       "    </tr>\n",
       "  </tbody>\n",
       "</table>\n",
       "</div>"
      ],
      "text/plain": [
       "       a  c\n",
       "0    one  0\n",
       "1    one  1\n",
       "2    two  2\n",
       "3  three  3\n",
       "4    two  4\n",
       "5    one  5\n",
       "6    six  6"
      ]
     },
     "execution_count": 2,
     "metadata": {},
     "output_type": "execute_result"
    }
   ],
   "source": [
    "dfb = pd.DataFrame({'a': ['one', 'one', 'two',\n",
    "                          'three', 'two', 'one', 'six'],\n",
    "                    'c': np.arange(7)})\n",
    "dfb"
   ]
  },
  {
   "cell_type": "code",
   "execution_count": 3,
   "id": "62c5cb69-fdf3-4bff-94cc-7c38366de4cc",
   "metadata": {},
   "outputs": [],
   "source": [
    "# 오늘의 내가 의문인 부분 : 열 추가하기\n",
    "dfb[\"f\"] = range(6, 13)"
   ]
  },
  {
   "cell_type": "code",
   "execution_count": 4,
   "id": "71da1bec-1c0d-44c8-9cae-bda8d23e9c9b",
   "metadata": {},
   "outputs": [
    {
     "data": {
      "text/html": [
       "<div>\n",
       "<style scoped>\n",
       "    .dataframe tbody tr th:only-of-type {\n",
       "        vertical-align: middle;\n",
       "    }\n",
       "\n",
       "    .dataframe tbody tr th {\n",
       "        vertical-align: top;\n",
       "    }\n",
       "\n",
       "    .dataframe thead th {\n",
       "        text-align: right;\n",
       "    }\n",
       "</style>\n",
       "<table border=\"1\" class=\"dataframe\">\n",
       "  <thead>\n",
       "    <tr style=\"text-align: right;\">\n",
       "      <th></th>\n",
       "      <th>a</th>\n",
       "      <th>c</th>\n",
       "      <th>f</th>\n",
       "    </tr>\n",
       "  </thead>\n",
       "  <tbody>\n",
       "    <tr>\n",
       "      <th>0</th>\n",
       "      <td>one</td>\n",
       "      <td>0</td>\n",
       "      <td>6</td>\n",
       "    </tr>\n",
       "    <tr>\n",
       "      <th>1</th>\n",
       "      <td>one</td>\n",
       "      <td>1</td>\n",
       "      <td>7</td>\n",
       "    </tr>\n",
       "    <tr>\n",
       "      <th>2</th>\n",
       "      <td>two</td>\n",
       "      <td>2</td>\n",
       "      <td>8</td>\n",
       "    </tr>\n",
       "    <tr>\n",
       "      <th>3</th>\n",
       "      <td>three</td>\n",
       "      <td>3</td>\n",
       "      <td>9</td>\n",
       "    </tr>\n",
       "    <tr>\n",
       "      <th>4</th>\n",
       "      <td>two</td>\n",
       "      <td>4</td>\n",
       "      <td>10</td>\n",
       "    </tr>\n",
       "    <tr>\n",
       "      <th>5</th>\n",
       "      <td>one</td>\n",
       "      <td>5</td>\n",
       "      <td>11</td>\n",
       "    </tr>\n",
       "    <tr>\n",
       "      <th>6</th>\n",
       "      <td>six</td>\n",
       "      <td>6</td>\n",
       "      <td>12</td>\n",
       "    </tr>\n",
       "  </tbody>\n",
       "</table>\n",
       "</div>"
      ],
      "text/plain": [
       "       a  c   f\n",
       "0    one  0   6\n",
       "1    one  1   7\n",
       "2    two  2   8\n",
       "3  three  3   9\n",
       "4    two  4  10\n",
       "5    one  5  11\n",
       "6    six  6  12"
      ]
     },
     "execution_count": 4,
     "metadata": {},
     "output_type": "execute_result"
    }
   ],
   "source": [
    "dfb"
   ]
  },
  {
   "cell_type": "code",
   "execution_count": 5,
   "id": "43c703de-b53b-437b-bf8a-fafe7f232bd9",
   "metadata": {},
   "outputs": [
    {
     "data": {
      "text/html": [
       "<div>\n",
       "<style scoped>\n",
       "    .dataframe tbody tr th:only-of-type {\n",
       "        vertical-align: middle;\n",
       "    }\n",
       "\n",
       "    .dataframe tbody tr th {\n",
       "        vertical-align: top;\n",
       "    }\n",
       "\n",
       "    .dataframe thead th {\n",
       "        text-align: right;\n",
       "    }\n",
       "</style>\n",
       "<table border=\"1\" class=\"dataframe\">\n",
       "  <thead>\n",
       "    <tr style=\"text-align: right;\">\n",
       "      <th></th>\n",
       "      <th>a</th>\n",
       "      <th>c</th>\n",
       "      <th>f</th>\n",
       "      <th>cf</th>\n",
       "    </tr>\n",
       "  </thead>\n",
       "  <tbody>\n",
       "    <tr>\n",
       "      <th>0</th>\n",
       "      <td>one</td>\n",
       "      <td>0</td>\n",
       "      <td>6</td>\n",
       "      <td>6</td>\n",
       "    </tr>\n",
       "    <tr>\n",
       "      <th>1</th>\n",
       "      <td>one</td>\n",
       "      <td>1</td>\n",
       "      <td>7</td>\n",
       "      <td>8</td>\n",
       "    </tr>\n",
       "    <tr>\n",
       "      <th>2</th>\n",
       "      <td>two</td>\n",
       "      <td>2</td>\n",
       "      <td>8</td>\n",
       "      <td>10</td>\n",
       "    </tr>\n",
       "    <tr>\n",
       "      <th>3</th>\n",
       "      <td>three</td>\n",
       "      <td>3</td>\n",
       "      <td>9</td>\n",
       "      <td>12</td>\n",
       "    </tr>\n",
       "    <tr>\n",
       "      <th>4</th>\n",
       "      <td>two</td>\n",
       "      <td>4</td>\n",
       "      <td>10</td>\n",
       "      <td>14</td>\n",
       "    </tr>\n",
       "    <tr>\n",
       "      <th>5</th>\n",
       "      <td>one</td>\n",
       "      <td>5</td>\n",
       "      <td>11</td>\n",
       "      <td>16</td>\n",
       "    </tr>\n",
       "    <tr>\n",
       "      <th>6</th>\n",
       "      <td>six</td>\n",
       "      <td>6</td>\n",
       "      <td>12</td>\n",
       "      <td>18</td>\n",
       "    </tr>\n",
       "  </tbody>\n",
       "</table>\n",
       "</div>"
      ],
      "text/plain": [
       "       a  c   f  cf\n",
       "0    one  0   6   6\n",
       "1    one  1   7   8\n",
       "2    two  2   8  10\n",
       "3  three  3   9  12\n",
       "4    two  4  10  14\n",
       "5    one  5  11  16\n",
       "6    six  6  12  18"
      ]
     },
     "execution_count": 5,
     "metadata": {},
     "output_type": "execute_result"
    }
   ],
   "source": [
    "dfb[\"cf\"] = dfb[\"c\"] + dfb[\"f\"]\n",
    "dfb"
   ]
  },
  {
   "cell_type": "code",
   "execution_count": 19,
   "id": "96ab25b8-10ec-446e-a568-78be431d95fc",
   "metadata": {},
   "outputs": [
    {
     "name": "stdout",
     "output_type": "stream",
     "text": [
      "<class 'pandas.core.frame.DataFrame'>\n",
      "RangeIndex: 41999 entries, 0 to 41998\n",
      "Data columns (total 5 columns):\n",
      " #   Column  Non-Null Count  Dtype         \n",
      "---  ------  --------------  -----         \n",
      " 0   날짜      41999 non-null  datetime64[ns]\n",
      " 1   지점      41999 non-null  int64         \n",
      " 2   평균기온    41999 non-null  float64       \n",
      " 3   최저기온    41999 non-null  float64       \n",
      " 4   최고기온    41999 non-null  float64       \n",
      "dtypes: datetime64[ns](1), float64(3), int64(1)\n",
      "memory usage: 1.6 MB\n"
     ]
    }
   ],
   "source": [
    "# 데이터 불러오기 \n",
    "weatherDF = pd.read_csv(\"daegu-utf8-df.csv\")\n",
    "weatherDF['날짜'] =\tpd.to_datetime(weatherDF['날짜'], format='%Y-%m-%d')\n",
    "weatherDF.info()"
   ]
  },
  {
   "cell_type": "code",
   "execution_count": 25,
   "id": "62d9276b-06aa-4f78-824a-495705d718bc",
   "metadata": {},
   "outputs": [
    {
     "data": {
      "image/png": "[encoded data removed]",
      "text/plain": [
       "<Figure size 1500x500 with 1 Axes>"
      ]
     },
     "metadata": {},
     "output_type": "display_data"
    }
   ],
   "source": [
    "decade_start = 2014\n",
    "diff_List = [] # y축\n",
    "YM_List = []  # x축\n",
    "for year in range(decade_start, decade_start+10):\n",
    "    yearDF = pd.DataFrame(weatherDF[weatherDF[\"날짜\"].dt.year == year]) # 해당 연 걸러줌 \n",
    "    # or DataFrame 대신 .copy()하면 괜찮음 \n",
    "    # 일교차를 구하고 해당 달을 거르\n",
    "   \n",
    "    yearDF.loc[:, \"일교차\"] = yearDF[\"최고기온\"] - yearDF[\"최저기온\"]\n",
    "    # yearDF.insert(loc=0, column='일교차', value=list(yearDF[\"최고기온\"] - yearDF[\"최저기온\"]))\n",
    "    diff_List.append(yearDF.sort_values(\"일교차\").tail(1).iloc[0, -1])\n",
    "    \n",
    "    m = yearDF.sort_values(\"일교차\").tail(1)[\"날짜\"].dt.month.iloc[0]\n",
    "    YM_List.append(str(year)+\".\"+str(m))\n",
    "     # monthDF = yearDF[monthDF[\"날짜\"].dt.month == month] # 년 + 달 까지 걸러줌\n",
    "plt.figure(figsize=(15, 5))\n",
    "plt.bar(YM_List, diff_List)\n",
    "plt.show()"
   ]
  },
  {
   "cell_type": "code",
   "execution_count": 24,
   "id": "460de774-aa79-408b-bbd6-bb29e0fcfbb9",
   "metadata": {},
   "outputs": [
    {
     "name": "stderr",
     "output_type": "stream",
     "text": [
      "C:\\Users\\kdp\\AppData\\Local\\Temp\\ipykernel_13816\\3000533269.py:10: SettingWithCopyWarning: \n",
      "A value is trying to be set on a copy of a slice from a DataFrame.\n",
      "Try using .loc[row_indexer,col_indexer] = value instead\n",
      "\n",
      "See the caveats in the documentation: https://pandas.pydata.org/pandas-docs/stable/user_guide/indexing.html#returning-a-view-versus-a-copy\n",
      "  yearDF.loc[:, \"일교차\"] = yearDF[\"최고기온\"] - yearDF[\"최저기온\"]\n",
      "C:\\Users\\kdp\\AppData\\Local\\Temp\\ipykernel_13816\\3000533269.py:10: SettingWithCopyWarning: \n",
      "A value is trying to be set on a copy of a slice from a DataFrame.\n",
      "Try using .loc[row_indexer,col_indexer] = value instead\n",
      "\n",
      "See the caveats in the documentation: https://pandas.pydata.org/pandas-docs/stable/user_guide/indexing.html#returning-a-view-versus-a-copy\n",
      "  yearDF.loc[:, \"일교차\"] = yearDF[\"최고기온\"] - yearDF[\"최저기온\"]\n",
      "C:\\Users\\kdp\\AppData\\Local\\Temp\\ipykernel_13816\\3000533269.py:10: SettingWithCopyWarning: \n",
      "A value is trying to be set on a copy of a slice from a DataFrame.\n",
      "Try using .loc[row_indexer,col_indexer] = value instead\n",
      "\n",
      "See the caveats in the documentation: https://pandas.pydata.org/pandas-docs/stable/user_guide/indexing.html#returning-a-view-versus-a-copy\n",
      "  yearDF.loc[:, \"일교차\"] = yearDF[\"최고기온\"] - yearDF[\"최저기온\"]\n",
      "C:\\Users\\kdp\\AppData\\Local\\Temp\\ipykernel_13816\\3000533269.py:10: SettingWithCopyWarning: \n",
      "A value is trying to be set on a copy of a slice from a DataFrame.\n",
      "Try using .loc[row_indexer,col_indexer] = value instead\n",
      "\n",
      "See the caveats in the documentation: https://pandas.pydata.org/pandas-docs/stable/user_guide/indexing.html#returning-a-view-versus-a-copy\n",
      "  yearDF.loc[:, \"일교차\"] = yearDF[\"최고기온\"] - yearDF[\"최저기온\"]\n",
      "C:\\Users\\kdp\\AppData\\Local\\Temp\\ipykernel_13816\\3000533269.py:10: SettingWithCopyWarning: \n",
      "A value is trying to be set on a copy of a slice from a DataFrame.\n",
      "Try using .loc[row_indexer,col_indexer] = value instead\n",
      "\n",
      "See the caveats in the documentation: https://pandas.pydata.org/pandas-docs/stable/user_guide/indexing.html#returning-a-view-versus-a-copy\n",
      "  yearDF.loc[:, \"일교차\"] = yearDF[\"최고기온\"] - yearDF[\"최저기온\"]\n",
      "C:\\Users\\kdp\\AppData\\Local\\Temp\\ipykernel_13816\\3000533269.py:10: SettingWithCopyWarning: \n",
      "A value is trying to be set on a copy of a slice from a DataFrame.\n",
      "Try using .loc[row_indexer,col_indexer] = value instead\n",
      "\n",
      "See the caveats in the documentation: https://pandas.pydata.org/pandas-docs/stable/user_guide/indexing.html#returning-a-view-versus-a-copy\n",
      "  yearDF.loc[:, \"일교차\"] = yearDF[\"최고기온\"] - yearDF[\"최저기온\"]\n",
      "C:\\Users\\kdp\\AppData\\Local\\Temp\\ipykernel_13816\\3000533269.py:10: SettingWithCopyWarning: \n",
      "A value is trying to be set on a copy of a slice from a DataFrame.\n",
      "Try using .loc[row_indexer,col_indexer] = value instead\n",
      "\n",
      "See the caveats in the documentation: https://pandas.pydata.org/pandas-docs/stable/user_guide/indexing.html#returning-a-view-versus-a-copy\n",
      "  yearDF.loc[:, \"일교차\"] = yearDF[\"최고기온\"] - yearDF[\"최저기온\"]\n",
      "C:\\Users\\kdp\\AppData\\Local\\Temp\\ipykernel_13816\\3000533269.py:10: SettingWithCopyWarning: \n",
      "A value is trying to be set on a copy of a slice from a DataFrame.\n",
      "Try using .loc[row_indexer,col_indexer] = value instead\n",
      "\n",
      "See the caveats in the documentation: https://pandas.pydata.org/pandas-docs/stable/user_guide/indexing.html#returning-a-view-versus-a-copy\n",
      "  yearDF.loc[:, \"일교차\"] = yearDF[\"최고기온\"] - yearDF[\"최저기온\"]\n",
      "C:\\Users\\kdp\\AppData\\Local\\Temp\\ipykernel_13816\\3000533269.py:10: SettingWithCopyWarning: \n",
      "A value is trying to be set on a copy of a slice from a DataFrame.\n",
      "Try using .loc[row_indexer,col_indexer] = value instead\n",
      "\n",
      "See the caveats in the documentation: https://pandas.pydata.org/pandas-docs/stable/user_guide/indexing.html#returning-a-view-versus-a-copy\n",
      "  yearDF.loc[:, \"일교차\"] = yearDF[\"최고기온\"] - yearDF[\"최저기온\"]\n",
      "C:\\Users\\kdp\\AppData\\Local\\Temp\\ipykernel_13816\\3000533269.py:10: SettingWithCopyWarning: \n",
      "A value is trying to be set on a copy of a slice from a DataFrame.\n",
      "Try using .loc[row_indexer,col_indexer] = value instead\n",
      "\n",
      "See the caveats in the documentation: https://pandas.pydata.org/pandas-docs/stable/user_guide/indexing.html#returning-a-view-versus-a-copy\n",
      "  yearDF.loc[:, \"일교차\"] = yearDF[\"최고기온\"] - yearDF[\"최저기온\"]\n"
     ]
    },
    {
     "data": {
      "image/png": "[encoded data removed]",
      "text/plain": [
       "<Figure size 1500x500 with 1 Axes>"
      ]
     },
     "metadata": {},
     "output_type": "display_data"
    }
   ],
   "source": [
    "decade_start = 2014\n",
    "diff_List = [] # y축\n",
    "YM_List = []  # x축\n",
    "for year in range(decade_start, decade_start+10):\n",
    "    yearDF = weatherDF[weatherDF[\"날짜\"].dt.year == year] # 해당 연 걸러줌 \n",
    "    # 위에 코드와 차이는 weatherDF를 다시 DF시켰는가 아닌가의 차이이다.\n",
    "    # SettingWithCopyWarning -> 복사본, loc 사용하기 \n",
    "    # 일교차를 구하고 해당 달을 거르\n",
    "    # yearDF[\"일교차\"] = yearDF[\"최고기온\"] - yearDF[\"최저기온\"]\n",
    "    yearDF.loc[:, \"일교차\"] = yearDF[\"최고기온\"] - yearDF[\"최저기온\"]\n",
    "    # yearDF.insert(loc=0, column='일교차', value=list(yearDF[\"최고기온\"] - yearDF[\"최저기온\"]))\n",
    "    diff_List.append(yearDF.sort_values(\"일교차\").tail(1).iloc[0, -1])\n",
    "    \n",
    "    m = yearDF.sort_values(\"일교차\").tail(1)[\"날짜\"].dt.month.iloc[0]\n",
    "    YM_List.append(str(year)+\".\"+str(m))\n",
    "     # monthDF = yearDF[monthDF[\"날짜\"].dt.month == month] # 년 + 달 까지 걸러줌\n",
    "plt.figure(figsize=(15, 5))\n",
    "plt.bar(YM_List, diff_List)\n",
    "plt.show()"
   ]
  },
  {
   "cell_type": "code",
   "execution_count": 46,
   "id": "93a7e650-2bab-4ac7-8e95-7b0c0d384359",
   "metadata": {},
   "outputs": [
    {
     "data": {
      "image/png": "[encoded data removed]",
      "text/plain": [
       "<Figure size 1500x500 with 1 Axes>"
      ]
     },
     "metadata": {},
     "output_type": "display_data"
    }
   ],
   "source": [
    "decade_start = 2014\n",
    "diff_List = [] # y축\n",
    "YM_List = []  # x축\n",
    "for year in range(decade_start, decade_start+10):\n",
    "    yearDF = weatherDF[weatherDF[\"날짜\"].dt.year == year].copy() # 해당 연 걸러줌 \n",
    "    # 위에 코드와 차이는 weatherDF를 다시 DF시켰는가 아닌가의 차이이다.\n",
    "    # SettingWithCopyWarning -> 복사본, loc 사용하기 \n",
    "    # 일교차를 구하고 해당 달을 거르\n",
    "    # yearDF[\"일교차\"] = yearDF[\"최고기온\"] - yearDF[\"최저기온\"]\n",
    "    yearDF.loc[:, \"일교차\"] = yearDF[\"최고기온\"] - yearDF[\"최저기온\"]\n",
    "    # yearDF.insert(loc=0, column='일교차', value=list(yearDF[\"최고기온\"] - yearDF[\"최저기온\"]))\n",
    "    diff_List.append(yearDF.sort_values(\"일교차\").tail(1).iloc[0, -1])\n",
    "    \n",
    "    m = yearDF.sort_values(\"일교차\").tail(1)[\"날짜\"].dt.month.iloc[0]\n",
    "    YM_List.append(str(year)+\".\"+str(m))\n",
    "     # monthDF = yearDF[monthDF[\"날짜\"].dt.month == month] # 년 + 달 까지 걸러줌\n",
    "plt.figure(figsize=(15, 5))\n",
    "plt.bar(YM_List, diff_List)\n",
    "plt.show()"
   ]
  },
  {
   "cell_type": "code",
   "execution_count": 21,
   "id": "e8b6e50f-7d9c-45fc-aef5-69a6bc1b675a",
   "metadata": {},
   "outputs": [
    {
     "data": {
      "text/html": [
       "<div>\n",
       "<style scoped>\n",
       "    .dataframe tbody tr th:only-of-type {\n",
       "        vertical-align: middle;\n",
       "    }\n",
       "\n",
       "    .dataframe tbody tr th {\n",
       "        vertical-align: top;\n",
       "    }\n",
       "\n",
       "    .dataframe thead th {\n",
       "        text-align: right;\n",
       "    }\n",
       "</style>\n",
       "<table border=\"1\" class=\"dataframe\">\n",
       "  <thead>\n",
       "    <tr style=\"text-align: right;\">\n",
       "      <th></th>\n",
       "      <th>날짜</th>\n",
       "      <th>지점</th>\n",
       "      <th>평균기온</th>\n",
       "      <th>최저기온</th>\n",
       "      <th>최고기온</th>\n",
       "      <th>일교차</th>\n",
       "    </tr>\n",
       "  </thead>\n",
       "  <tbody>\n",
       "    <tr>\n",
       "      <th>41634</th>\n",
       "      <td>2023-01-01</td>\n",
       "      <td>143</td>\n",
       "      <td>1.7</td>\n",
       "      <td>-3.9</td>\n",
       "      <td>7.1</td>\n",
       "      <td>11.0</td>\n",
       "    </tr>\n",
       "    <tr>\n",
       "      <th>41635</th>\n",
       "      <td>2023-01-02</td>\n",
       "      <td>143</td>\n",
       "      <td>0.4</td>\n",
       "      <td>-1.9</td>\n",
       "      <td>4.2</td>\n",
       "      <td>6.1</td>\n",
       "    </tr>\n",
       "    <tr>\n",
       "      <th>41636</th>\n",
       "      <td>2023-01-03</td>\n",
       "      <td>143</td>\n",
       "      <td>-0.3</td>\n",
       "      <td>-3.5</td>\n",
       "      <td>4.6</td>\n",
       "      <td>8.1</td>\n",
       "    </tr>\n",
       "    <tr>\n",
       "      <th>41637</th>\n",
       "      <td>2023-01-04</td>\n",
       "      <td>143</td>\n",
       "      <td>1.1</td>\n",
       "      <td>-3.5</td>\n",
       "      <td>6.5</td>\n",
       "      <td>10.0</td>\n",
       "    </tr>\n",
       "    <tr>\n",
       "      <th>41638</th>\n",
       "      <td>2023-01-05</td>\n",
       "      <td>143</td>\n",
       "      <td>0.6</td>\n",
       "      <td>-5.2</td>\n",
       "      <td>7.3</td>\n",
       "      <td>12.5</td>\n",
       "    </tr>\n",
       "    <tr>\n",
       "      <th>...</th>\n",
       "      <td>...</td>\n",
       "      <td>...</td>\n",
       "      <td>...</td>\n",
       "      <td>...</td>\n",
       "      <td>...</td>\n",
       "      <td>...</td>\n",
       "    </tr>\n",
       "    <tr>\n",
       "      <th>41994</th>\n",
       "      <td>2023-12-27</td>\n",
       "      <td>143</td>\n",
       "      <td>3.8</td>\n",
       "      <td>-0.9</td>\n",
       "      <td>11.3</td>\n",
       "      <td>12.2</td>\n",
       "    </tr>\n",
       "    <tr>\n",
       "      <th>41995</th>\n",
       "      <td>2023-12-28</td>\n",
       "      <td>143</td>\n",
       "      <td>3.5</td>\n",
       "      <td>-3.0</td>\n",
       "      <td>10.6</td>\n",
       "      <td>13.6</td>\n",
       "    </tr>\n",
       "    <tr>\n",
       "      <th>41996</th>\n",
       "      <td>2023-12-29</td>\n",
       "      <td>143</td>\n",
       "      <td>3.1</td>\n",
       "      <td>-2.9</td>\n",
       "      <td>9.5</td>\n",
       "      <td>12.4</td>\n",
       "    </tr>\n",
       "    <tr>\n",
       "      <th>41997</th>\n",
       "      <td>2023-12-30</td>\n",
       "      <td>143</td>\n",
       "      <td>2.9</td>\n",
       "      <td>-2.9</td>\n",
       "      <td>7.7</td>\n",
       "      <td>10.6</td>\n",
       "    </tr>\n",
       "    <tr>\n",
       "      <th>41998</th>\n",
       "      <td>2023-12-31</td>\n",
       "      <td>143</td>\n",
       "      <td>4.6</td>\n",
       "      <td>1.4</td>\n",
       "      <td>7.9</td>\n",
       "      <td>6.5</td>\n",
       "    </tr>\n",
       "  </tbody>\n",
       "</table>\n",
       "<p>365 rows × 6 columns</p>\n",
       "</div>"
      ],
      "text/plain": [
       "              날짜   지점  평균기온  최저기온  최고기온   일교차\n",
       "41634 2023-01-01  143   1.7  -3.9   7.1  11.0\n",
       "41635 2023-01-02  143   0.4  -1.9   4.2   6.1\n",
       "41636 2023-01-03  143  -0.3  -3.5   4.6   8.1\n",
       "41637 2023-01-04  143   1.1  -3.5   6.5  10.0\n",
       "41638 2023-01-05  143   0.6  -5.2   7.3  12.5\n",
       "...          ...  ...   ...   ...   ...   ...\n",
       "41994 2023-12-27  143   3.8  -0.9  11.3  12.2\n",
       "41995 2023-12-28  143   3.5  -3.0  10.6  13.6\n",
       "41996 2023-12-29  143   3.1  -2.9   9.5  12.4\n",
       "41997 2023-12-30  143   2.9  -2.9   7.7  10.6\n",
       "41998 2023-12-31  143   4.6   1.4   7.9   6.5\n",
       "\n",
       "[365 rows x 6 columns]"
      ]
     },
     "execution_count": 21,
     "metadata": {},
     "output_type": "execute_result"
    }
   ],
   "source": [
    "yearDF"
   ]
  },
  {
   "cell_type": "code",
   "execution_count": 15,
   "id": "c1b5248b-4867-4937-ab71-af4d891c6958",
   "metadata": {},
   "outputs": [],
   "source": [
    "yearDF = weatherDF[weatherDF[\"날짜\"].dt.year == 2013]\n",
    "yearDF = yearDF.copy()\n",
    "yearDF[\"일교차\"] = yearDF[\"최고기온\"] - yearDF[\"최저기온\"]"
   ]
  },
  {
   "cell_type": "code",
   "execution_count": 12,
   "id": "350afaf9-2941-4281-9655-bd04eda55bac",
   "metadata": {},
   "outputs": [
    {
     "data": {
      "text/plain": [
       "2862319768672"
      ]
     },
     "execution_count": 12,
     "metadata": {},
     "output_type": "execute_result"
    }
   ],
   "source": [
    "id(yearDF)"
   ]
  },
  {
   "cell_type": "code",
   "execution_count": 14,
   "id": "d4834218-79ae-421d-be9e-5b7f48972700",
   "metadata": {},
   "outputs": [
    {
     "data": {
      "text/plain": [
       "2862263622480"
      ]
     },
     "execution_count": 14,
     "metadata": {},
     "output_type": "execute_result"
    }
   ],
   "source": [
    "id( weatherDF[weatherDF[\"날짜\"].dt.year == year] )"
   ]
  },
  {
   "cell_type": "code",
   "execution_count": 9,
   "id": "202db821-f9f6-421b-a8f3-644ccb28a380",
   "metadata": {},
   "outputs": [
    {
     "data": {
      "text/html": [
       "<div>\n",
       "<style scoped>\n",
       "    .dataframe tbody tr th:only-of-type {\n",
       "        vertical-align: middle;\n",
       "    }\n",
       "\n",
       "    .dataframe tbody tr th {\n",
       "        vertical-align: top;\n",
       "    }\n",
       "\n",
       "    .dataframe thead th {\n",
       "        text-align: right;\n",
       "    }\n",
       "</style>\n",
       "<table border=\"1\" class=\"dataframe\">\n",
       "  <thead>\n",
       "    <tr style=\"text-align: right;\">\n",
       "      <th></th>\n",
       "      <th>날짜</th>\n",
       "      <th>지점</th>\n",
       "      <th>평균기온</th>\n",
       "      <th>최저기온</th>\n",
       "      <th>최고기온</th>\n",
       "      <th>일교차</th>\n",
       "    </tr>\n",
       "  </thead>\n",
       "  <tbody>\n",
       "    <tr>\n",
       "      <th>0</th>\n",
       "      <td>1909-01-01</td>\n",
       "      <td>143</td>\n",
       "      <td>-4.1</td>\n",
       "      <td>-8.0</td>\n",
       "      <td>0.1</td>\n",
       "      <td>8.1</td>\n",
       "    </tr>\n",
       "    <tr>\n",
       "      <th>1</th>\n",
       "      <td>1909-01-02</td>\n",
       "      <td>143</td>\n",
       "      <td>-0.8</td>\n",
       "      <td>-6.7</td>\n",
       "      <td>6.1</td>\n",
       "      <td>12.8</td>\n",
       "    </tr>\n",
       "    <tr>\n",
       "      <th>2</th>\n",
       "      <td>1909-01-03</td>\n",
       "      <td>143</td>\n",
       "      <td>1.0</td>\n",
       "      <td>-2.4</td>\n",
       "      <td>3.6</td>\n",
       "      <td>6.0</td>\n",
       "    </tr>\n",
       "    <tr>\n",
       "      <th>3</th>\n",
       "      <td>1909-01-04</td>\n",
       "      <td>143</td>\n",
       "      <td>4.2</td>\n",
       "      <td>0.0</td>\n",
       "      <td>9.2</td>\n",
       "      <td>9.2</td>\n",
       "    </tr>\n",
       "    <tr>\n",
       "      <th>4</th>\n",
       "      <td>1909-01-05</td>\n",
       "      <td>143</td>\n",
       "      <td>3.4</td>\n",
       "      <td>-0.4</td>\n",
       "      <td>9.0</td>\n",
       "      <td>9.4</td>\n",
       "    </tr>\n",
       "    <tr>\n",
       "      <th>...</th>\n",
       "      <td>...</td>\n",
       "      <td>...</td>\n",
       "      <td>...</td>\n",
       "      <td>...</td>\n",
       "      <td>...</td>\n",
       "      <td>...</td>\n",
       "    </tr>\n",
       "    <tr>\n",
       "      <th>41994</th>\n",
       "      <td>2023-12-27</td>\n",
       "      <td>143</td>\n",
       "      <td>3.8</td>\n",
       "      <td>-0.9</td>\n",
       "      <td>11.3</td>\n",
       "      <td>12.2</td>\n",
       "    </tr>\n",
       "    <tr>\n",
       "      <th>41995</th>\n",
       "      <td>2023-12-28</td>\n",
       "      <td>143</td>\n",
       "      <td>3.5</td>\n",
       "      <td>-3.0</td>\n",
       "      <td>10.6</td>\n",
       "      <td>13.6</td>\n",
       "    </tr>\n",
       "    <tr>\n",
       "      <th>41996</th>\n",
       "      <td>2023-12-29</td>\n",
       "      <td>143</td>\n",
       "      <td>3.1</td>\n",
       "      <td>-2.9</td>\n",
       "      <td>9.5</td>\n",
       "      <td>12.4</td>\n",
       "    </tr>\n",
       "    <tr>\n",
       "      <th>41997</th>\n",
       "      <td>2023-12-30</td>\n",
       "      <td>143</td>\n",
       "      <td>2.9</td>\n",
       "      <td>-2.9</td>\n",
       "      <td>7.7</td>\n",
       "      <td>10.6</td>\n",
       "    </tr>\n",
       "    <tr>\n",
       "      <th>41998</th>\n",
       "      <td>2023-12-31</td>\n",
       "      <td>143</td>\n",
       "      <td>4.6</td>\n",
       "      <td>1.4</td>\n",
       "      <td>7.9</td>\n",
       "      <td>6.5</td>\n",
       "    </tr>\n",
       "  </tbody>\n",
       "</table>\n",
       "<p>41999 rows × 6 columns</p>\n",
       "</div>"
      ],
      "text/plain": [
       "              날짜   지점  평균기온  최저기온  최고기온   일교차\n",
       "0     1909-01-01  143  -4.1  -8.0   0.1   8.1\n",
       "1     1909-01-02  143  -0.8  -6.7   6.1  12.8\n",
       "2     1909-01-03  143   1.0  -2.4   3.6   6.0\n",
       "3     1909-01-04  143   4.2   0.0   9.2   9.2\n",
       "4     1909-01-05  143   3.4  -0.4   9.0   9.4\n",
       "...          ...  ...   ...   ...   ...   ...\n",
       "41994 2023-12-27  143   3.8  -0.9  11.3  12.2\n",
       "41995 2023-12-28  143   3.5  -3.0  10.6  13.6\n",
       "41996 2023-12-29  143   3.1  -2.9   9.5  12.4\n",
       "41997 2023-12-30  143   2.9  -2.9   7.7  10.6\n",
       "41998 2023-12-31  143   4.6   1.4   7.9   6.5\n",
       "\n",
       "[41999 rows x 6 columns]"
      ]
     },
     "execution_count": 9,
     "metadata": {},
     "output_type": "execute_result"
    }
   ],
   "source": [
    "weatherDF[\"일교차\"] = weatherDF[\"최고기온\"] - weatherDF[\"최저기온\"]\n",
    "weatherDF"
   ]
  },
  {
   "cell_type": "markdown",
   "id": "1299bc4d-d76d-474d-af0e-f8eb3633506e",
   "metadata": {},
   "source": [
    "### <hr>아무튼 chained indexing Warning방지와 복수 col 맛보기"
   ]
  },
  {
   "cell_type": "code",
   "execution_count": 27,
   "id": "4e08bef8-ebf3-4fd0-954c-828bf20e8f8c",
   "metadata": {},
   "outputs": [
    {
     "data": {
      "text/html": [
       "<div>\n",
       "<style scoped>\n",
       "    .dataframe tbody tr th:only-of-type {\n",
       "        vertical-align: middle;\n",
       "    }\n",
       "\n",
       "    .dataframe tbody tr th {\n",
       "        vertical-align: top;\n",
       "    }\n",
       "\n",
       "    .dataframe thead tr th {\n",
       "        text-align: left;\n",
       "    }\n",
       "</style>\n",
       "<table border=\"1\" class=\"dataframe\">\n",
       "  <thead>\n",
       "    <tr>\n",
       "      <th></th>\n",
       "      <th colspan=\"2\" halign=\"left\">one</th>\n",
       "      <th colspan=\"2\" halign=\"left\">two</th>\n",
       "    </tr>\n",
       "    <tr>\n",
       "      <th></th>\n",
       "      <th>first</th>\n",
       "      <th>second</th>\n",
       "      <th>first</th>\n",
       "      <th>second</th>\n",
       "    </tr>\n",
       "  </thead>\n",
       "  <tbody>\n",
       "    <tr>\n",
       "      <th>0</th>\n",
       "      <td>a</td>\n",
       "      <td>b</td>\n",
       "      <td>c</td>\n",
       "      <td>d</td>\n",
       "    </tr>\n",
       "    <tr>\n",
       "      <th>1</th>\n",
       "      <td>e</td>\n",
       "      <td>f</td>\n",
       "      <td>g</td>\n",
       "      <td>h</td>\n",
       "    </tr>\n",
       "    <tr>\n",
       "      <th>2</th>\n",
       "      <td>i</td>\n",
       "      <td>j</td>\n",
       "      <td>k</td>\n",
       "      <td>l</td>\n",
       "    </tr>\n",
       "    <tr>\n",
       "      <th>3</th>\n",
       "      <td>m</td>\n",
       "      <td>n</td>\n",
       "      <td>o</td>\n",
       "      <td>p</td>\n",
       "    </tr>\n",
       "  </tbody>\n",
       "</table>\n",
       "</div>"
      ],
      "text/plain": [
       "    one          two       \n",
       "  first second first second\n",
       "0     a      b     c      d\n",
       "1     e      f     g      h\n",
       "2     i      j     k      l\n",
       "3     m      n     o      p"
      ]
     },
     "execution_count": 27,
     "metadata": {},
     "output_type": "execute_result"
    }
   ],
   "source": [
    "df = pd.DataFrame([list(\"abcd\"),\n",
    "                 list(\"efgh\"),\n",
    "                 list(\"ijkl\"),\n",
    "                 list(\"mnop\")], # 여기까지가 value\n",
    "                 columns=pd.MultiIndex.from_product([\n",
    "                     [\"one\", \"two\"],\n",
    "                     [\"first\", \"second\"]\n",
    "                 ]))\n",
    "df"
   ]
  },
  {
   "cell_type": "code",
   "execution_count": 35,
   "id": "e9852a5b-8f28-4331-8115-a6dc67603f60",
   "metadata": {},
   "outputs": [
    {
     "data": {
      "text/html": [
       "<div>\n",
       "<style scoped>\n",
       "    .dataframe tbody tr th:only-of-type {\n",
       "        vertical-align: middle;\n",
       "    }\n",
       "\n",
       "    .dataframe tbody tr th {\n",
       "        vertical-align: top;\n",
       "    }\n",
       "\n",
       "    .dataframe thead th {\n",
       "        text-align: right;\n",
       "    }\n",
       "</style>\n",
       "<table border=\"1\" class=\"dataframe\">\n",
       "  <thead>\n",
       "    <tr style=\"text-align: right;\">\n",
       "      <th></th>\n",
       "      <th>first</th>\n",
       "      <th>second</th>\n",
       "    </tr>\n",
       "  </thead>\n",
       "  <tbody>\n",
       "    <tr>\n",
       "      <th>0</th>\n",
       "      <td>a</td>\n",
       "      <td>b</td>\n",
       "    </tr>\n",
       "    <tr>\n",
       "      <th>1</th>\n",
       "      <td>e</td>\n",
       "      <td>f</td>\n",
       "    </tr>\n",
       "    <tr>\n",
       "      <th>2</th>\n",
       "      <td>i</td>\n",
       "      <td>j</td>\n",
       "    </tr>\n",
       "    <tr>\n",
       "      <th>3</th>\n",
       "      <td>m</td>\n",
       "      <td>n</td>\n",
       "    </tr>\n",
       "  </tbody>\n",
       "</table>\n",
       "</div>"
      ],
      "text/plain": [
       "  first second\n",
       "0     a      b\n",
       "1     e      f\n",
       "2     i      j\n",
       "3     m      n"
      ]
     },
     "execution_count": 35,
     "metadata": {},
     "output_type": "execute_result"
    }
   ],
   "source": [
    "df.loc[:,(\"one\")] # 권장"
   ]
  },
  {
   "cell_type": "code",
   "execution_count": 42,
   "id": "e5ba906d-b676-4e1f-8ae4-26fccc28d6e7",
   "metadata": {},
   "outputs": [
    {
     "data": {
      "text/plain": [
       "0    a\n",
       "1    e\n",
       "2    i\n",
       "3    m\n",
       "Name: first, dtype: object"
      ]
     },
     "execution_count": 42,
     "metadata": {},
     "output_type": "execute_result"
    }
   ],
   "source": [
    "df[\"one\"][\"first\"] # 비추 -> chain Index warning 유발 "
   ]
  },
  {
   "cell_type": "markdown",
   "id": "8b458818-94ed-4268-92fa-858cc8097087",
   "metadata": {},
   "source": [
    "이러면 df[\"one\"] 부터 실행하고 그 다음 [\"first\"] 실행  \n",
    "여기서 판다스는 df2 = df[\"one\"]으로 두고 df2[\"first\"]로 실행함  \n",
    "줄줄줄 하지마\n",
    "# 복수 Index의 맛 TV"
   ]
  },
  {
   "cell_type": "code",
   "execution_count": 49,
   "id": "5b306c2b-f6d9-4c35-9077-81fdb675c5bf",
   "metadata": {},
   "outputs": [
    {
     "data": {
      "text/html": [
       "<div>\n",
       "<style scoped>\n",
       "    .dataframe tbody tr th:only-of-type {\n",
       "        vertical-align: middle;\n",
       "    }\n",
       "\n",
       "    .dataframe tbody tr th {\n",
       "        vertical-align: top;\n",
       "    }\n",
       "\n",
       "    .dataframe thead tr th {\n",
       "        text-align: left;\n",
       "    }\n",
       "</style>\n",
       "<table border=\"1\" class=\"dataframe\">\n",
       "  <thead>\n",
       "    <tr>\n",
       "      <th></th>\n",
       "      <th colspan=\"2\" halign=\"left\">one</th>\n",
       "      <th colspan=\"2\" halign=\"left\">two</th>\n",
       "    </tr>\n",
       "    <tr>\n",
       "      <th></th>\n",
       "      <th>first</th>\n",
       "      <th>second</th>\n",
       "      <th>first</th>\n",
       "      <th>second</th>\n",
       "    </tr>\n",
       "  </thead>\n",
       "  <tbody>\n",
       "    <tr>\n",
       "      <th>0</th>\n",
       "      <td>a</td>\n",
       "      <td>b</td>\n",
       "      <td>c</td>\n",
       "      <td>d</td>\n",
       "    </tr>\n",
       "    <tr>\n",
       "      <th>1</th>\n",
       "      <td>e</td>\n",
       "      <td>f</td>\n",
       "      <td>g</td>\n",
       "      <td>h</td>\n",
       "    </tr>\n",
       "    <tr>\n",
       "      <th>2</th>\n",
       "      <td>i</td>\n",
       "      <td>j</td>\n",
       "      <td>k</td>\n",
       "      <td>l</td>\n",
       "    </tr>\n",
       "    <tr>\n",
       "      <th>3</th>\n",
       "      <td>m</td>\n",
       "      <td>n</td>\n",
       "      <td>o</td>\n",
       "      <td>p</td>\n",
       "    </tr>\n",
       "  </tbody>\n",
       "</table>\n",
       "</div>"
      ],
      "text/plain": [
       "    one          two       \n",
       "  first second first second\n",
       "0     a      b     c      d\n",
       "1     e      f     g      h\n",
       "2     i      j     k      l\n",
       "3     m      n     o      p"
      ]
     },
     "execution_count": 49,
     "metadata": {},
     "output_type": "execute_result"
    }
   ],
   "source": [
    "df = pd.DataFrame([list(\"abcd\"),\n",
    "                 list(\"efgh\"),\n",
    "                 list(\"ijkl\"),\n",
    "                 list(\"mnop\")], # 여기까지가 value\n",
    "                 columns=pd.MultiIndex.from_product([\n",
    "                     [\"one\", \"two\"],\n",
    "                     [\"first\", \"second\"]\n",
    "                 ]))\n",
    "df"
   ]
  },
  {
   "cell_type": "markdown",
   "id": "d7bae88b-0d75-4c9f-a7f0-707d79bdbb6b",
   "metadata": {},
   "source": [
    "- MultiIndex.from_arrays(arrays, sortorder=None, names=None)\n",
    "- MultiIndex.from_tuple(tuples, sortorder=None, names=None)\n",
    "- MultiIndex.from_product(iterables, sortorder=None, names=None)\n",
    "- MultiIndex.from_frame(df, sortorder=None, names=None)\n",
    "     * sortorder:int형 자료형을 입력받으며 정렬시킬 level\n",
    "     * names:str로 구성된 list-like자료형을 입력받으며, level에 대한 명칭 입력"
   ]
  },
  {
   "cell_type": "code",
   "execution_count": 48,
   "id": "7975d9fe-b4bf-4588-8fe9-e5c6b0b5be69",
   "metadata": {},
   "outputs": [],
   "source": [
    "# 모듈 import \n",
    "import pandas as pd\n",
    "import numpy as np"
   ]
  },
  {
   "cell_type": "code",
   "execution_count": 51,
   "id": "1740e891-79d3-4b2c-b634-f203d9aaf26d",
   "metadata": {},
   "outputs": [
    {
     "data": {
      "text/plain": [
       "MultiIndex([('A', 'a'),\n",
       "            ('A', 'b'),\n",
       "            ('B', 'a'),\n",
       "            ('B', 'b'),\n",
       "            ('C', 'a'),\n",
       "            ('C', 'b'),\n",
       "            ('D', 'a'),\n",
       "            ('D', 'b')],\n",
       "           )"
      ]
     },
     "execution_count": 51,
     "metadata": {},
     "output_type": "execute_result"
    }
   ],
   "source": [
    "# 배열을 이용한 MultiIndex\n",
    "ex_array = np.array([[\"A\", \"A\", \"B\", \"B\", \"C\", \"C\", \"D\", \"D\"],\n",
    "                    [\"a\", \"b\", \"a\", \"b\", \"a\", \"b\", \"a\", \"b\"]])\n",
    "ex_index = pd.MultiIndex.from_arrays(ex_array)\n",
    "ex_index"
   ]
  },
  {
   "cell_type": "code",
   "execution_count": 53,
   "id": "13533c53-c65a-406e-abf7-6a32bffee9cc",
   "metadata": {},
   "outputs": [
    {
     "data": {
      "text/plain": [
       "A  a    0\n",
       "   b    1\n",
       "B  a    2\n",
       "   b    3\n",
       "C  a    4\n",
       "   b    5\n",
       "D  a    6\n",
       "   b    7\n",
       "dtype: int64"
      ]
     },
     "execution_count": 53,
     "metadata": {},
     "output_type": "execute_result"
    }
   ],
   "source": [
    "# 위에서 생성한 멀티 인덱스를 인덱스로 \n",
    "ex_s = pd.Series(range(8), index=ex_index)\n",
    "ex_s"
   ]
  },
  {
   "cell_type": "code",
   "execution_count": 54,
   "id": "3a69c735-e946-40f9-b301-0eba862abbaf",
   "metadata": {},
   "outputs": [
    {
     "data": {
      "text/html": [
       "<div>\n",
       "<style scoped>\n",
       "    .dataframe tbody tr th:only-of-type {\n",
       "        vertical-align: middle;\n",
       "    }\n",
       "\n",
       "    .dataframe tbody tr th {\n",
       "        vertical-align: top;\n",
       "    }\n",
       "\n",
       "    .dataframe thead th {\n",
       "        text-align: right;\n",
       "    }\n",
       "</style>\n",
       "<table border=\"1\" class=\"dataframe\">\n",
       "  <thead>\n",
       "    <tr style=\"text-align: right;\">\n",
       "      <th></th>\n",
       "      <th></th>\n",
       "      <th>0</th>\n",
       "    </tr>\n",
       "  </thead>\n",
       "  <tbody>\n",
       "    <tr>\n",
       "      <th rowspan=\"2\" valign=\"top\">A</th>\n",
       "      <th>a</th>\n",
       "      <td>0</td>\n",
       "    </tr>\n",
       "    <tr>\n",
       "      <th>b</th>\n",
       "      <td>1</td>\n",
       "    </tr>\n",
       "    <tr>\n",
       "      <th rowspan=\"2\" valign=\"top\">B</th>\n",
       "      <th>a</th>\n",
       "      <td>2</td>\n",
       "    </tr>\n",
       "    <tr>\n",
       "      <th>b</th>\n",
       "      <td>3</td>\n",
       "    </tr>\n",
       "    <tr>\n",
       "      <th rowspan=\"2\" valign=\"top\">C</th>\n",
       "      <th>a</th>\n",
       "      <td>4</td>\n",
       "    </tr>\n",
       "    <tr>\n",
       "      <th>b</th>\n",
       "      <td>5</td>\n",
       "    </tr>\n",
       "    <tr>\n",
       "      <th rowspan=\"2\" valign=\"top\">D</th>\n",
       "      <th>a</th>\n",
       "      <td>6</td>\n",
       "    </tr>\n",
       "    <tr>\n",
       "      <th>b</th>\n",
       "      <td>7</td>\n",
       "    </tr>\n",
       "  </tbody>\n",
       "</table>\n",
       "</div>"
      ],
      "text/plain": [
       "     0\n",
       "A a  0\n",
       "  b  1\n",
       "B a  2\n",
       "  b  3\n",
       "C a  4\n",
       "  b  5\n",
       "D a  6\n",
       "  b  7"
      ]
     },
     "execution_count": 54,
     "metadata": {},
     "output_type": "execute_result"
    }
   ],
   "source": [
    "ex_s = pd.DataFrame(range(8), index=ex_index)\n",
    "ex_s"
   ]
  },
  {
   "cell_type": "code",
   "execution_count": 62,
   "id": "4fd73206-a5ed-4839-9cae-cd24a4e447ca",
   "metadata": {},
   "outputs": [
    {
     "data": {
      "text/plain": [
       "MultiIndex([('A', 'A', 'B', 'B', 'C', 'C', 'D', 'D'),\n",
       "            ('a', 'b', 'a', 'b', 'a', 'b', 'a', 'b')],\n",
       "           )"
      ]
     },
     "execution_count": 62,
     "metadata": {},
     "output_type": "execute_result"
    }
   ],
   "source": [
    "# \n",
    "ex_tuple = [('A', 'a'),\n",
    "            ('A', 'b'),\n",
    "            ('B', 'a'),\n",
    "            ('B', 'b'),\n",
    "            ('C', 'a'),\n",
    "            ('C', 'b'),\n",
    "            ('D', 'a'),\n",
    "            ('D', 'b')]\n",
    "array_index = pd.MultiIndex.from_arrays(ex_tuple)\n",
    "array_index"
   ]
  },
  {
   "cell_type": "code",
   "execution_count": 60,
   "id": "38eac9d1-3959-40ef-8237-c77db1002ed0",
   "metadata": {},
   "outputs": [
    {
     "data": {
      "text/plain": [
       "MultiIndex([('A', 'a'),\n",
       "            ('A', 'b'),\n",
       "            ('B', 'a'),\n",
       "            ('B', 'b'),\n",
       "            ('C', 'a'),\n",
       "            ('C', 'b'),\n",
       "            ('D', 'a'),\n",
       "            ('D', 'b')],\n",
       "           )"
      ]
     },
     "execution_count": 60,
     "metadata": {},
     "output_type": "execute_result"
    }
   ],
   "source": [
    "# 튜플 \n",
    "ex_tuple = [('A', 'a'),\n",
    "            ('A', 'b'),\n",
    "            ('B', 'a'),\n",
    "            ('B', 'b'),\n",
    "            ('C', 'a'),\n",
    "            ('C', 'b'),\n",
    "            ('D', 'a'),\n",
    "            ('D', 'b')]\n",
    "tuple_index = pd.MultiIndex.from_tuples(ex_tuple)\n",
    "tuple_index"
   ]
  },
  {
   "cell_type": "code",
   "execution_count": 63,
   "id": "ed08b047-61a3-4488-b1de-2ffeea61651f",
   "metadata": {},
   "outputs": [
    {
     "data": {
      "text/plain": [
       "A  a    0\n",
       "   b    1\n",
       "B  a    2\n",
       "   b    3\n",
       "C  a    4\n",
       "   b    5\n",
       "D  a    6\n",
       "   b    7\n",
       "dtype: int64"
      ]
     },
     "execution_count": 63,
     "metadata": {},
     "output_type": "execute_result"
    }
   ],
   "source": [
    "ex_s = pd.Series(range(8), index=tuple_index)\n",
    "ex_s"
   ]
  },
  {
   "cell_type": "code",
   "execution_count": 68,
   "id": "4ac7bd15-51b0-4f62-9be6-831267ae294e",
   "metadata": {},
   "outputs": [
    {
     "data": {
      "text/plain": [
       "MultiIndex([('A', 'a'),\n",
       "            ('A', 'b'),\n",
       "            ('B', 'a'),\n",
       "            ('B', 'b'),\n",
       "            ('C', 'a'),\n",
       "            ('C', 'b'),\n",
       "            ('D', 'a'),\n",
       "            ('D', 'b')],\n",
       "           )"
      ]
     },
     "execution_count": 68,
     "metadata": {},
     "output_type": "execute_result"
    }
   ],
   "source": [
    "# MultiIndex.from_product(iterables, sortorder=None, names=None)\n",
    "ex_prod = [[\"A\", \"B\", \"C\", \"D\"], [\"a\", \"b\"]]\n",
    "iter_index = pd.MultiIndex.from_product(ex_prod)\n",
    "iter_index"
   ]
  },
  {
   "cell_type": "code",
   "execution_count": 69,
   "id": "e4d39f1b-e51e-4452-ae68-5876681e3c0b",
   "metadata": {},
   "outputs": [
    {
     "data": {
      "text/plain": [
       "A  a    0\n",
       "   b    1\n",
       "B  a    2\n",
       "   b    3\n",
       "C  a    4\n",
       "   b    5\n",
       "D  a    6\n",
       "   b    7\n",
       "dtype: int64"
      ]
     },
     "execution_count": 69,
     "metadata": {},
     "output_type": "execute_result"
    }
   ],
   "source": [
    "ex_s = pd.Series(range(8), index=iter_index)\n",
    "ex_s"
   ]
  },
  {
   "cell_type": "code",
   "execution_count": 70,
   "id": "d349ee37-4d39-4728-ba0a-904c22660e34",
   "metadata": {},
   "outputs": [
    {
     "data": {
      "text/plain": [
       "FrozenList([None, None])"
      ]
     },
     "execution_count": 70,
     "metadata": {},
     "output_type": "execute_result"
    }
   ],
   "source": [
    "ex_s.index.names"
   ]
  },
  {
   "cell_type": "markdown",
   "id": "2df9b71e-ff24-4b41-9c52-c8ab8ef00eb0",
   "metadata": {},
   "source": [
    "# iter, next 함수 활용하기\n",
    "- iter는 반복 가능한 객체에서 __ _iter_ __ 메서드를 호출\n",
    "- next는 반복 가능한 객체에서 __ _next_ __ 메서드를 호출"
   ]
  },
  {
   "cell_type": "code",
   "execution_count": 77,
   "id": "763f43a9-8d1a-4554-b5e9-849cfae9411f",
   "metadata": {},
   "outputs": [],
   "source": [
    "it = iter(range(3))"
   ]
  },
  {
   "cell_type": "code",
   "execution_count": 78,
   "id": "63c15037-3b07-4634-a857-a1f6d1be9a8c",
   "metadata": {},
   "outputs": [
    {
     "data": {
      "text/plain": [
       "0"
      ]
     },
     "execution_count": 78,
     "metadata": {},
     "output_type": "execute_result"
    }
   ],
   "source": [
    "next(it)"
   ]
  },
  {
   "cell_type": "code",
   "execution_count": 79,
   "id": "51631261-42b1-4f9c-af4c-f8eaf33b12fb",
   "metadata": {},
   "outputs": [
    {
     "data": {
      "text/plain": [
       "1"
      ]
     },
     "execution_count": 79,
     "metadata": {},
     "output_type": "execute_result"
    }
   ],
   "source": [
    "next(it)"
   ]
  },
  {
   "cell_type": "code",
   "execution_count": 80,
   "id": "1801310f-4349-454c-af0a-4a4664f5d1b8",
   "metadata": {},
   "outputs": [
    {
     "data": {
      "text/plain": [
       "2"
      ]
     },
     "execution_count": 80,
     "metadata": {},
     "output_type": "execute_result"
    }
   ],
   "source": [
    "next(it)"
   ]
  },
  {
   "cell_type": "code",
   "execution_count": 81,
   "id": "4d4b9c82-9f8d-4e26-ab21-897b7a0b1d08",
   "metadata": {},
   "outputs": [
    {
     "ename": "StopIteration",
     "evalue": "",
     "output_type": "error",
     "traceback": [
      "\u001b[1;31m---------------------------------------------------------------------------\u001b[0m",
      "\u001b[1;31mStopIteration\u001b[0m                             Traceback (most recent call last)",
      "Cell \u001b[1;32mIn[81], line 1\u001b[0m\n\u001b[1;32m----> 1\u001b[0m \u001b[38;5;28;43mnext\u001b[39;49m\u001b[43m(\u001b[49m\u001b[43mit\u001b[49m\u001b[43m)\u001b[49m\n",
      "\u001b[1;31mStopIteration\u001b[0m: "
     ]
    }
   ],
   "source": [
    "next(it)"
   ]
  },
  {
   "cell_type": "code",
   "execution_count": 82,
   "id": "bc77effc-5d06-440b-8ea2-00349715d6f1",
   "metadata": {},
   "outputs": [],
   "source": [
    "# iter 반복을 끝낼 값을 지정하면 특정 값이 나올 때 반복을 끝냄\n",
    "iter(호출할 객체, sentinel)\n",
    "# sentinel : 반복을 끝낼 값 = 감시병"
   ]
  },
  {
   "cell_type": "code",
   "execution_count": 83,
   "id": "b97950b9-7f0a-4197-9b2e-c2a45434b35d",
   "metadata": {},
   "outputs": [],
   "source": [
    "import random\n",
    "it = iter(lambda:random.randint(0, 5), 2)"
   ]
  },
  {
   "cell_type": "markdown",
   "id": "72076b29-eaa0-4dac-a429-d2a3091cff39",
   "metadata": {},
   "source": [
    "# plt.xticks(눈금을 적용할 x축의 실제 위치, 해당 위치에 나타낼 값)"
   ]
  },
  {
   "cell_type": "code",
   "execution_count": null,
   "id": "655b1c4a-0c14-4029-89bc-ecb9698b29fc",
   "metadata": {},
   "outputs": [],
   "source": []
  }
 ],
 "metadata": {
  "kernelspec": {
   "display_name": "Python 3 (ipykernel)",
   "language": "python",
   "name": "python3"
  },
  "language_info": {
   "codemirror_mode": {
    "name": "ipython",
    "version": 3
   },
   "file_extension": ".py",
   "mimetype": "text/x-python",
   "name": "python",
   "nbconvert_exporter": "python",
   "pygments_lexer": "ipython3",
   "version": "3.8.18"
  }
 },
 "nbformat": 4,
 "nbformat_minor": 5
}
